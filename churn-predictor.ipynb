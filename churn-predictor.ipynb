{
 "cells": [
  {
   "cell_type": "code",
   "execution_count": null,
   "metadata": {},
   "outputs": [],
   "source": [
    "import pandas as pd\n",
    "import numpy as np\n",
    "\n",
    "import seaborn as sns\n",
    "sns.set(font_scale = 1.5)\n",
    "\n",
    "import matplotlib.pyplot as plt\n",
    "import scikitplot as skplt\n",
    "from matplotlib.colors import ListedColormap\n",
    "%matplotlib inline\n",
    "%config InlineBackend.figure_format = 'retina'\n",
    "plt.style.use('fivethirtyeight')"
   ]
  },
  {
   "cell_type": "code",
   "execution_count": null,
   "metadata": {},
   "outputs": [],
   "source": [
    "from sklearn.tree import DecisionTreeClassifier\n",
    "from sklearn.linear_model import LogisticRegression\n",
    "from sklearn.svm import SVC\n",
    "from sklearn.ensemble import RandomForestClassifier\n",
    "from sklearn.preprocessing import StandardScaler\n",
    "from sklearn.model_selection import train_test_split, cross_val_score, GridSearchCV\n",
    "from imblearn.over_sampling import RandomOverSampler\n",
    "from imblearn.under_sampling import RandomUnderSampler\n",
    "from imblearn.pipeline import make_pipeline\n",
    "from sklearn.metrics import precision_score, make_scorer"
   ]
  },
  {
   "cell_type": "code",
   "execution_count": null,
   "metadata": {},
   "outputs": [],
   "source": [
    "customer_data = pd.read_csv('../data-sources/customer-churn/customer-churn.csv')\n",
    "customer_data.head()"
   ]
  },
  {
   "cell_type": "code",
   "execution_count": null,
   "metadata": {},
   "outputs": [],
   "source": [
    "customer_data.rename(columns={'customerID': 'CustomerID', 'gender': 'Gender', 'tenure': 'Tenure'}, inplace=True)"
   ]
  },
  {
   "cell_type": "code",
   "execution_count": null,
   "metadata": {},
   "outputs": [],
   "source": [
    "def ColumnTransformer(cell):\n",
    "    if cell == 0:\n",
    "        return 'No'\n",
    "    else:\n",
    "        return 'Yes'\n",
    "\n",
    "customer_data['SeniorCitizen'] = customer_data['SeniorCitizen'].apply(ColumnTransformer)"
   ]
  },
  {
   "cell_type": "code",
   "execution_count": null,
   "metadata": {},
   "outputs": [],
   "source": [
    "def ColumnTransformer(cell):\n",
    "    if cell == 'Electronic check':\n",
    "        return 'ElCh'\n",
    "    elif cell == 'Mailed check':\n",
    "        return 'MaCh'\n",
    "    elif cell == 'Bank transfer (automatic)':\n",
    "        return 'BaTr-A'\n",
    "    else:\n",
    "        return 'CrCa-A'\n",
    "    \n",
    "customer_data['PaymentMethod'] = customer_data['PaymentMethod'].apply(ColumnTransformer)"
   ]
  },
  {
   "cell_type": "code",
   "execution_count": null,
   "metadata": {},
   "outputs": [],
   "source": [
    "customer_data.drop(customer_data[customer_data['Tenure'] == 0].index, inplace=True)\n",
    "customer_data.drop('CustomerID', axis=1, inplace=True)\n",
    "\n",
    "customer_data['TotalCharges'] = customer_data['TotalCharges'].astype(float)"
   ]
  },
  {
   "cell_type": "code",
   "execution_count": null,
   "metadata": {},
   "outputs": [],
   "source": [
    "y = customer_data.pop('Churn')"
   ]
  },
  {
   "cell_type": "code",
   "execution_count": null,
   "metadata": {},
   "outputs": [],
   "source": [
    "X = customer_data"
   ]
  },
  {
   "cell_type": "code",
   "execution_count": null,
   "metadata": {},
   "outputs": [],
   "source": [
    "X_dum = pd.get_dummies(X, columns=X.select_dtypes(include='object').columns, drop_first=True)"
   ]
  },
  {
   "cell_type": "code",
   "execution_count": null,
   "metadata": {},
   "outputs": [],
   "source": [
    "X_train, X_test, y_train, y_test = train_test_split(X_dum, y, test_size=0.3, random_state=1, stratify=y)"
   ]
  },
  {
   "cell_type": "code",
   "execution_count": null,
   "metadata": {},
   "outputs": [],
   "source": [
    "scaler = StandardScaler()\n",
    "\n",
    "X_train = pd.DataFrame(scaler.fit_transform(X_train), columns=X_train.columns)\n",
    "X_test = pd.DataFrame(scaler.transform(X_test), columns=X_test.columns)"
   ]
  },
  {
   "cell_type": "code",
   "execution_count": null,
   "metadata": {},
   "outputs": [],
   "source": [
    "cust_prec_scorer = make_scorer(precision_score, pos_label='Yes')"
   ]
  },
  {
   "cell_type": "code",
   "execution_count": null,
   "metadata": {},
   "outputs": [],
   "source": [
    "pipe_dt = make_pipeline(RandomOverSampler(random_state=1),\n",
    "                        DecisionTreeClassifier(random_state=1))\n",
    "\n",
    "pipe_dt_params = {'decisiontreeclassifier__criterion': ['gini', 'entropy'],\n",
    "                  'decisiontreeclassifier__max_depth': [5, 10, None],\n",
    "                  'decisiontreeclassifier__min_samples_split': [2, 5, 9],\n",
    "                  'decisiontreeclassifier__max_features': [0.3, 0.6]}\n",
    "\n",
    "pipe_dt_gs = GridSearchCV(pipe_dt, pipe_dt_params, cv=5, scoring=cust_prec_scorer, n_jobs=-3, verbose=1)\n",
    "pipe_dt_gs.fit(X_train, y_train)\n",
    "\n",
    "print('Best parameters:', pipe_dt_gs.best_params_)\n",
    "print('Mean cross-validated score:', pipe_dt_gs.best_score_)\n",
    "print('Test score:', pipe_dt_gs.score(X_test, y_test))"
   ]
  },
  {
   "cell_type": "code",
   "execution_count": null,
   "metadata": {},
   "outputs": [],
   "source": [
    "dt_predictions = pipe_dt_gs.predict(X_test)\n",
    "skplt.metrics.plot_confusion_matrix(y_test, dt_predictions, figsize=(8, 8))\n",
    "plt.show()"
   ]
  },
  {
   "cell_type": "code",
   "execution_count": null,
   "metadata": {},
   "outputs": [],
   "source": [
    "pipe_lr = make_pipeline(RandomOverSampler(random_state=1),\n",
    "                        LogisticRegression(max_iter=10000))\n",
    "\n",
    "pipe_lr_params = {'logisticregression__penalty': ['elasticnet'],\n",
    "                  'logisticregression__C': [0.01, 0.05, 0.5, 1, 10, 100],\n",
    "                  'logisticregression__l1_ratio': [0.001, 0.01, 0.1, 0.5, 0.9, 0.99],\n",
    "                  'logisticregression__solver': ['saga'],\n",
    "                  'logisticregression__fit_intercept': [True, False]}\n",
    "\n",
    "pipe_lr_gs = GridSearchCV(pipe_lr, pipe_lr_params, cv=5, scoring=cust_prec_scorer, n_jobs=-3, verbose=1)\n",
    "pipe_lr_gs.fit(X_train, y_train)\n",
    "\n",
    "print('Best parameters:', pipe_lr_gs.best_params_)\n",
    "print('Mean cross-validated score:', pipe_lr_gs.best_score_)\n",
    "print('Test score:', pipe_lr_gs.score(X_test, y_test))"
   ]
  },
  {
   "cell_type": "code",
   "execution_count": null,
   "metadata": {},
   "outputs": [],
   "source": [
    "lr_predictions = pipe_lr_gs.predict(X_test)\n",
    "skplt.metrics.plot_confusion_matrix(y_test, lr_predictions, figsize=(8, 8))\n",
    "plt.show()"
   ]
  },
  {
   "cell_type": "code",
   "execution_count": null,
   "metadata": {},
   "outputs": [],
   "source": [
    "pipe_rf = make_pipeline(RandomUnderSampler(random_state=1),\n",
    "                        RandomForestClassifier(random_state=1))\n",
    "\n",
    "pipe_rf_params = {'randomforestclassifier__criterion': ['gini', 'entropy'],\n",
    "                  'randomforestclassifier__max_depth': [5, 10, None],\n",
    "                  'randomforestclassifier__max_features': [0.3, 0.6, 'auto'],\n",
    "                  'randomforestclassifier__max_samples': [0.5, 0.8, None],\n",
    "                  'randomforestclassifier__n_estimators': [30, 80, 130, 180, 230]} \n",
    "\n",
    "pipe_rf_gs = GridSearchCV(pipe_rf, pipe_rf_params, cv=5, scoring=cust_prec_scorer, n_jobs=-3, verbose=1)\n",
    "pipe_rf_gs.fit(X_train, y_train)\n",
    "\n",
    "print('Best parameters:', pipe_rf_gs.best_params_)\n",
    "print('Mean cross-validated score:', pipe_rf_gs.best_score_)\n",
    "print('Test score:', pipe_rf_gs.score(X_test, y_test))"
   ]
  },
  {
   "cell_type": "code",
   "execution_count": null,
   "metadata": {},
   "outputs": [],
   "source": [
    "rf_predictions = pipe_rf_gs.predict(X_test)\n",
    "skplt.metrics.plot_confusion_matrix(y_test, rf_predictions, figsize=(8, 8))\n",
    "plt.show()"
   ]
  },
  {
   "cell_type": "code",
   "execution_count": null,
   "metadata": {},
   "outputs": [],
   "source": [
    "pipe_svc = make_pipeline(RandomUnderSampler(random_state=1),\n",
    "                         SVC(random_state=1))\n",
    "\n",
    "pipe_svc_params = {'svc__gamma': np.logspace(-5, 2, 6),\n",
    "                   'svc__C': np.logspace(-2, 3, 6),\n",
    "                   'svc__kernel': ['rbf', 'sigmoid', 'linear', 'poly'],\n",
    "                   'svc__break_ties': [True, False]} \n",
    "\n",
    "pipe_svc_gs = GridSearchCV(pipe_svc, pipe_svc_params, cv=5, scoring=cust_prec_scorer, n_jobs=-3, verbose=1)\n",
    "pipe_svc_gs.fit(X_train, y_train)\n",
    "\n",
    "print('Best parameters:', pipe_svc_gs.best_params_)\n",
    "print('Mean cross-validated score:', pipe_svc_gs.best_score_)\n",
    "print('Test score:', pipe_svc_gs.score(X_test, y_test))"
   ]
  },
  {
   "cell_type": "code",
   "execution_count": null,
   "metadata": {},
   "outputs": [],
   "source": [
    "svc_predictions = pipe_svc_gs.predict(X_test)\n",
    "skplt.metrics.plot_confusion_matrix(y_test, svc_predictions, figsize=(8, 8))\n",
    "plt.show()"
   ]
  }
 ],
 "metadata": {
  "kernelspec": {
   "display_name": "Python 3",
   "language": "python",
   "name": "python3"
  },
  "language_info": {
   "codemirror_mode": {
    "name": "ipython",
    "version": 3
   },
   "file_extension": ".py",
   "mimetype": "text/x-python",
   "name": "python",
   "nbconvert_exporter": "python",
   "pygments_lexer": "ipython3",
   "version": "3.8.5"
  }
 },
 "nbformat": 4,
 "nbformat_minor": 4
}
